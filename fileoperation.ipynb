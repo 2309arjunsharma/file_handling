{
 "cells": [
  {
   "cell_type": "code",
   "execution_count": 3,
   "metadata": {},
   "outputs": [
    {
     "name": "stdout",
     "output_type": "stream",
     "text": [
      "March 14 to May 25, 2025\n",
      "The 2025 Indian Premier League (IPL) is scheduled\n",
      "to run from March 14 to May 25, 2025.\n",
      "The IPL Governing Council has decided to \n",
      "keep the number of matches to 74 for this edition\n",
      "to help cricketers balance their workload.\n"
     ]
    }
   ],
   "source": [
    "with open('read.txt','r') as file:\n",
    "    content=file.read()\n",
    "    print(content)"
   ]
  },
  {
   "cell_type": "code",
   "execution_count": 4,
   "metadata": {},
   "outputs": [
    {
     "name": "stdout",
     "output_type": "stream",
     "text": [
      "March 14 to May 25, 2025\n",
      "\n",
      "The 2025 Indian Premier League (IPL) is scheduled\n",
      "\n",
      "to run from March 14 to May 25, 2025.\n",
      "\n",
      "The IPL Governing Council has decided to \n",
      "\n",
      "keep the number of matches to 74 for this edition\n",
      "\n",
      "to help cricketers balance their workload.\n"
     ]
    }
   ],
   "source": [
    "with open('read.txt','r') as file:\n",
    "    for line in file:\n",
    "        print(line)"
   ]
  },
  {
   "cell_type": "code",
   "execution_count": 7,
   "metadata": {},
   "outputs": [
    {
     "name": "stdout",
     "output_type": "stream",
     "text": [
      "Hello everyone!\n",
      "this is a new line\n"
     ]
    }
   ],
   "source": [
    "with open('read.txt','r') as file:\n",
    "    for line in file:\n",
    "        print(line.strip())"
   ]
  },
  {
   "cell_type": "code",
   "execution_count": 11,
   "metadata": {},
   "outputs": [],
   "source": [
    "with open('read.txt','w') as file:\n",
    "    file.write('Hello everyone!\\n')\n",
    "    file.write('this is a new line.')"
   ]
  },
  {
   "cell_type": "code",
   "execution_count": 12,
   "metadata": {},
   "outputs": [],
   "source": [
    "with open('read.txt','a') as file:\n",
    "    file.write('Append operation taking place!\\n')"
   ]
  },
  {
   "cell_type": "code",
   "execution_count": 13,
   "metadata": {},
   "outputs": [],
   "source": [
    "lines=['First line \\n','Second line \\n','Third line \\n']\n",
    "with open('read.txt','a') as file:\n",
    "    file.writelines(lines)"
   ]
  },
  {
   "cell_type": "code",
   "execution_count": 14,
   "metadata": {},
   "outputs": [
    {
     "name": "stdout",
     "output_type": "stream",
     "text": [
      "b'Hello everyone!'\n"
     ]
    }
   ],
   "source": [
    "with open('read.bin','rb') as file:\n",
    "    content=file.read()\n",
    "    print(content)"
   ]
  },
  {
   "cell_type": "code",
   "execution_count": 15,
   "metadata": {},
   "outputs": [],
   "source": [
    "with open('read.txt','r') as source_file:\n",
    "    content=source_file.read()\n",
    "with open('d.txt','w') as d_file:\n",
    "    d_file.write(content)"
   ]
  },
  {
   "cell_type": "code",
   "execution_count": 20,
   "metadata": {},
   "outputs": [
    {
     "name": "stdout",
     "output_type": "stream",
     "text": [
      "Lines: 5, Words: 17, Characters: 104\n"
     ]
    }
   ],
   "source": [
    "def count_text_file(file_path):\n",
    "    with open(file_path,'r') as file:\n",
    "        lines=file.readlines()\n",
    "        line_count=len(lines)\n",
    "        word_count=sum(len(line.split()) for line in lines)\n",
    "        char_count=sum(len(line) for line in lines)\n",
    "    return line_count,word_count, char_count\n",
    "\n",
    "file_path='read.txt'\n",
    "lines,words,characters=count_text_file(file_path)\n",
    "print(f'Lines: {lines}, Words: {words}, Characters: {characters}')"
   ]
  },
  {
   "cell_type": "code",
   "execution_count": 29,
   "metadata": {},
   "outputs": [
    {
     "name": "stdout",
     "output_type": "stream",
     "text": [
      "Hello everyone!\n",
      "this is a new line.\n"
     ]
    }
   ],
   "source": [
    "with open('read.txt','w+') as file:\n",
    "    file.write('Hello everyone!\\n')\n",
    "    file.write('this is a new line.')\n",
    "\n",
    "    file.seek(0)\n",
    "    content=file.read()\n",
    "    print(content)"
   ]
  }
 ],
 "metadata": {
  "kernelspec": {
   "display_name": "base",
   "language": "python",
   "name": "python3"
  },
  "language_info": {
   "codemirror_mode": {
    "name": "ipython",
    "version": 3
   },
   "file_extension": ".py",
   "mimetype": "text/x-python",
   "name": "python",
   "nbconvert_exporter": "python",
   "pygments_lexer": "ipython3",
   "version": "3.12.4"
  }
 },
 "nbformat": 4,
 "nbformat_minor": 2
}
